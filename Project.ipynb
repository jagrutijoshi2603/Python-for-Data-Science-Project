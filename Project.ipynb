{
 "cells": [
  {
   "cell_type": "code",
   "execution_count": 1,
   "metadata": {},
   "outputs": [],
   "source": [
    "# import libraries\n",
    "from urllib.request import urlopen as ureq\n",
    "from bs4 import BeautifulSoup as soup"
   ]
  },
  {
   "cell_type": "markdown",
   "metadata": {},
   "source": [
    "### Critic Ratings from The A.V. Club"
   ]
  },
  {
   "cell_type": "code",
   "execution_count": 2,
   "metadata": {},
   "outputs": [],
   "source": [
    "# get html (avclub)\n",
    "url = \"https://www.avclub.com/c/tv-review/brooklyn-nine-nine?startTime=1511319600497\"\n",
    "uclient = ureq(url)\n",
    "page_html = uclient.read()\n",
    "uclient.close()"
   ]
  },
  {
   "cell_type": "code",
   "execution_count": 35,
   "metadata": {},
   "outputs": [],
   "source": [
    "# get articles on page (avclub)\n",
    "page_soup = soup(page_html,\"html.parser\")\n",
    "articles = page_soup.findAll(\"article\",{\"class\":\"js_post_item cw4lnv-0 glgzMx\"})"
   ]
  },
  {
   "cell_type": "code",
   "execution_count": 36,
   "metadata": {},
   "outputs": [
    {
     "data": {
      "text/plain": [
       "20"
      ]
     },
     "execution_count": 36,
     "metadata": {},
     "output_type": "execute_result"
    }
   ],
   "source": [
    "# check if any articles are fetched i.e. len(articles)>0\n",
    "len(articles)"
   ]
  },
  {
   "cell_type": "code",
   "execution_count": 37,
   "metadata": {},
   "outputs": [
    {
     "data": {
      "text/plain": [
       "[{'rating': 'B-', 'date': '11/15/17'},\n",
       " {'rating': 'B+', 'date': '11/7/17'},\n",
       " {'rating': 'A', 'date': '10/17/17'},\n",
       " {'rating': 'B+', 'date': '10/10/17'},\n",
       " {'rating': 'C+', 'date': '10/3/17'},\n",
       " {'rating': 'B', 'date': '9/26/17'},\n",
       " {'rating': '', 'date': '5/24/17'},\n",
       " {'rating': '', 'date': '5/16/17'},\n",
       " {'rating': '', 'date': '5/9/17'},\n",
       " {'rating': 'B', 'date': '5/2/17'},\n",
       " {'rating': 'A', 'date': '4/25/17'},\n",
       " {'rating': 'B+', 'date': '4/18/17'},\n",
       " {'rating': 'B', 'date': '4/11/17'},\n",
       " {'rating': '', 'date': '1/1/17'},\n",
       " {'rating': 'C', 'date': '12/14/16'},\n",
       " {'rating': 'C', 'date': '12/6/16'},\n",
       " {'rating': 'A', 'date': '11/29/16'},\n",
       " {'rating': 'C+', 'date': '11/22/16'},\n",
       " {'rating': 'B+', 'date': '11/15/16'},\n",
       " {'rating': 'A', 'date': '10/18/16'}]"
      ]
     },
     "execution_count": 37,
     "metadata": {},
     "output_type": "execute_result"
    }
   ],
   "source": [
    "# store article rating and date in a pandas dataframe (av_club_b99)\n",
    "av_club_b99 = []\n",
    "for article in articles:\n",
    "    av_club_b991={}\n",
    "    av_club_b991['rating'] = article.figure.div.div.text\n",
    "    av_club_b991['date'] = article.div.findAll(\"div\",{\"class\":\"sc-3nbvzd-1 VhErj\"})[0].text\n",
    "    av_club_b99.append(av_club_b991)\n",
    "av_club_b99"
   ]
  },
  {
   "cell_type": "code",
   "execution_count": null,
   "metadata": {},
   "outputs": [],
   "source": [
    "# testing code for fetching all articles instead of just the first 20\n",
    "from selenium import webdriver\n",
    "url = 'https://www.avclub.com/c/tv-review/brooklyn-nine-nine?startTime=1511319600497'\n",
    "driver = webdriver.Chrome('C:/Users/Jagruti Joshi/Downloads/Installation Files/chromedriver_win32/chromedriver.exe')\n",
    "driver.get(url)\n",
    "for elem in driver.find_elements_by_link_text('More stories'):\n",
    "        try:\n",
    "            elem.click()\n",
    "            print('Succesful click')\n",
    "        except:\n",
    "            print('Unsuccesful click')\n",
    "\n",
    "source = driver.page_source\n",
    "\n",
    "driver.close()"
   ]
  },
  {
   "cell_type": "markdown",
   "metadata": {},
   "source": [
    "### User Ratings from IMDB"
   ]
  },
  {
   "cell_type": "code",
   "execution_count": null,
   "metadata": {},
   "outputs": [],
   "source": [
    "# get html (imdb)\n",
    "url = \"https://www.imdb.com/title/tt2467372/episodes?season=5\"\n",
    "uclient = ureq(url)\n",
    "page_html = uclient.read()\n",
    "uclient.close()"
   ]
  }
 ],
 "metadata": {
  "kernelspec": {
   "display_name": "Python 3",
   "language": "python",
   "name": "python3"
  },
  "language_info": {
   "codemirror_mode": {
    "name": "ipython",
    "version": 3
   },
   "file_extension": ".py",
   "mimetype": "text/x-python",
   "name": "python",
   "nbconvert_exporter": "python",
   "pygments_lexer": "ipython3",
   "version": "3.7.3"
  }
 },
 "nbformat": 4,
 "nbformat_minor": 2
}
