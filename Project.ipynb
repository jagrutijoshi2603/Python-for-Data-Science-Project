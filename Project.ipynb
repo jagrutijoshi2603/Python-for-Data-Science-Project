{
 "cells": [
  {
   "cell_type": "code",
   "execution_count": 234,
   "metadata": {},
   "outputs": [],
   "source": [
    "# import libraries\n",
    "from urllib.request import urlopen as ureq\n",
    "from bs4 import BeautifulSoup as soup\n",
    "import pandas as pd\n",
    "import numpy as np\n",
    "import matplotlib.pyplot as plt\n",
    "import seaborn as sns"
   ]
  },
  {
   "cell_type": "markdown",
   "metadata": {},
   "source": [
    "### Critic Ratings from The A.V. Club"
   ]
  },
  {
   "cell_type": "code",
   "execution_count": 235,
   "metadata": {},
   "outputs": [],
   "source": [
    "# get html (avclub)\n",
    "url = \"https://www.avclub.com/c/tv-review/brooklyn-nine-nine?startTime=1511319600497\"\n",
    "uclient = ureq(url)\n",
    "page_html = uclient.read()\n",
    "uclient.close()"
   ]
  },
  {
   "cell_type": "code",
   "execution_count": 236,
   "metadata": {},
   "outputs": [],
   "source": [
    "# get articles on page (avclub)\n",
    "page_soup = soup(page_html,\"html.parser\")\n",
    "articles = page_soup.findAll(\"article\",{\"class\":\"js_post_item cw4lnv-0 glgzMx\"})"
   ]
  },
  {
   "cell_type": "code",
   "execution_count": 237,
   "metadata": {},
   "outputs": [
    {
     "data": {
      "text/plain": [
       "20"
      ]
     },
     "execution_count": 237,
     "metadata": {},
     "output_type": "execute_result"
    }
   ],
   "source": [
    "# check if any articles are fetched i.e. len(articles)>0\n",
    "len(articles)"
   ]
  },
  {
   "cell_type": "code",
   "execution_count": 238,
   "metadata": {},
   "outputs": [
    {
     "data": {
      "text/html": [
       "<div>\n",
       "<style scoped>\n",
       "    .dataframe tbody tr th:only-of-type {\n",
       "        vertical-align: middle;\n",
       "    }\n",
       "\n",
       "    .dataframe tbody tr th {\n",
       "        vertical-align: top;\n",
       "    }\n",
       "\n",
       "    .dataframe thead th {\n",
       "        text-align: right;\n",
       "    }\n",
       "</style>\n",
       "<table border=\"1\" class=\"dataframe\">\n",
       "  <thead>\n",
       "    <tr style=\"text-align: right;\">\n",
       "      <th></th>\n",
       "      <th>episode_air_date</th>\n",
       "      <th>episode_rating</th>\n",
       "    </tr>\n",
       "  </thead>\n",
       "  <tbody>\n",
       "    <tr>\n",
       "      <td>0</td>\n",
       "      <td>2017-11-15</td>\n",
       "      <td>B-</td>\n",
       "    </tr>\n",
       "    <tr>\n",
       "      <td>1</td>\n",
       "      <td>2017-11-07</td>\n",
       "      <td>B+</td>\n",
       "    </tr>\n",
       "    <tr>\n",
       "      <td>2</td>\n",
       "      <td>2017-10-17</td>\n",
       "      <td>A</td>\n",
       "    </tr>\n",
       "    <tr>\n",
       "      <td>3</td>\n",
       "      <td>2017-10-10</td>\n",
       "      <td>B+</td>\n",
       "    </tr>\n",
       "    <tr>\n",
       "      <td>4</td>\n",
       "      <td>2017-10-03</td>\n",
       "      <td>C+</td>\n",
       "    </tr>\n",
       "  </tbody>\n",
       "</table>\n",
       "</div>"
      ],
      "text/plain": [
       "  episode_air_date episode_rating\n",
       "0       2017-11-15             B-\n",
       "1       2017-11-07             B+\n",
       "2       2017-10-17              A\n",
       "3       2017-10-10             B+\n",
       "4       2017-10-03             C+"
      ]
     },
     "execution_count": 238,
     "metadata": {},
     "output_type": "execute_result"
    }
   ],
   "source": [
    "# store article rating and date in a pandas dataframe (av_club_b99)\n",
    "column_names = ['episode_air_date','episode_rating']\n",
    "av_club_b99 = pd.DataFrame(columns=column_names)\n",
    "for article in articles:\n",
    "    av_club_b99 = av_club_b99.append({'episode_rating': article.figure.div.div.text, 'episode_air_date': article.div.findAll(\"div\",{\"class\":\"sc-3nbvzd-1 VhErj\"})[0].text}, ignore_index=True)\n",
    "av_club_b99['episode_air_date'] = pd.to_datetime(av_club_b99['episode_air_date'])\n",
    "av_club_b99.head()"
   ]
  },
  {
   "cell_type": "code",
   "execution_count": 239,
   "metadata": {},
   "outputs": [
    {
     "name": "stdout",
     "output_type": "stream",
     "text": [
      "Succesful click\n"
     ]
    }
   ],
   "source": [
    "# testing code for fetching all articles instead of just the first 20\n",
    "from selenium import webdriver\n",
    "url = 'https://www.avclub.com/c/tv-review/brooklyn-nine-nine?startTime=1511319600497'\n",
    "driver = webdriver.Chrome('C:/Users/Jagruti Joshi/Downloads/Installation Files/chromedriver_win32/chromedriver.exe')\n",
    "driver.get(url)\n",
    "for elem in driver.find_elements_by_link_text('More stories'):\n",
    "        try:\n",
    "            elem.click()\n",
    "            print('Succesful click')\n",
    "        except:\n",
    "            print('Unsuccesful click')\n",
    "\n",
    "source = driver.page_source\n",
    "\n",
    "driver.close()"
   ]
  },
  {
   "cell_type": "markdown",
   "metadata": {},
   "source": [
    "### User Ratings from IMDB"
   ]
  },
  {
   "cell_type": "code",
   "execution_count": 240,
   "metadata": {},
   "outputs": [],
   "source": [
    "# get html (imdb)\n",
    "url = \"https://www.imdb.com/title/tt2467372/episodes?season=5\"\n",
    "uclient = ureq(url)\n",
    "page_html = uclient.read()\n",
    "uclient.close()"
   ]
  },
  {
   "cell_type": "code",
   "execution_count": 241,
   "metadata": {},
   "outputs": [],
   "source": [
    "# get episode data on page (imdb)\n",
    "page_soup = soup(page_html,\"html.parser\")\n",
    "episodes = page_soup.findAll(\"div\",{\"class\":\"info\"})"
   ]
  },
  {
   "cell_type": "code",
   "execution_count": 242,
   "metadata": {},
   "outputs": [
    {
     "data": {
      "text/plain": [
       "22"
      ]
     },
     "execution_count": 242,
     "metadata": {},
     "output_type": "execute_result"
    }
   ],
   "source": [
    "# check if any episode data is fetched i.e. len(episodes)>0\n",
    "len(episodes)"
   ]
  },
  {
   "cell_type": "code",
   "execution_count": 243,
   "metadata": {},
   "outputs": [
    {
     "data": {
      "text/html": [
       "<div>\n",
       "<style scoped>\n",
       "    .dataframe tbody tr th:only-of-type {\n",
       "        vertical-align: middle;\n",
       "    }\n",
       "\n",
       "    .dataframe tbody tr th {\n",
       "        vertical-align: top;\n",
       "    }\n",
       "\n",
       "    .dataframe thead th {\n",
       "        text-align: right;\n",
       "    }\n",
       "</style>\n",
       "<table border=\"1\" class=\"dataframe\">\n",
       "  <thead>\n",
       "    <tr style=\"text-align: right;\">\n",
       "      <th></th>\n",
       "      <th>episode_air_date</th>\n",
       "      <th>episode_rating</th>\n",
       "      <th>episode_name</th>\n",
       "      <th>total_votes</th>\n",
       "    </tr>\n",
       "  </thead>\n",
       "  <tbody>\n",
       "    <tr>\n",
       "      <td>0</td>\n",
       "      <td>2017-09-26</td>\n",
       "      <td>8.5</td>\n",
       "      <td>The Big House Pt. 1</td>\n",
       "      <td>1664</td>\n",
       "    </tr>\n",
       "    <tr>\n",
       "      <td>1</td>\n",
       "      <td>2017-10-03</td>\n",
       "      <td>8.4</td>\n",
       "      <td>The Big House Pt. 2</td>\n",
       "      <td>1507</td>\n",
       "    </tr>\n",
       "    <tr>\n",
       "      <td>2</td>\n",
       "      <td>2017-10-10</td>\n",
       "      <td>8.0</td>\n",
       "      <td>Kicks</td>\n",
       "      <td>1383</td>\n",
       "    </tr>\n",
       "    <tr>\n",
       "      <td>3</td>\n",
       "      <td>2017-10-17</td>\n",
       "      <td>9.5</td>\n",
       "      <td>HalloVeen</td>\n",
       "      <td>3028</td>\n",
       "    </tr>\n",
       "    <tr>\n",
       "      <td>4</td>\n",
       "      <td>2017-11-07</td>\n",
       "      <td>8.0</td>\n",
       "      <td>Bad Beat</td>\n",
       "      <td>1356</td>\n",
       "    </tr>\n",
       "  </tbody>\n",
       "</table>\n",
       "</div>"
      ],
      "text/plain": [
       "  episode_air_date episode_rating         episode_name  total_votes\n",
       "0       2017-09-26            8.5  The Big House Pt. 1         1664\n",
       "1       2017-10-03            8.4  The Big House Pt. 2         1507\n",
       "2       2017-10-10            8.0                Kicks         1383\n",
       "3       2017-10-17            9.5            HalloVeen         3028\n",
       "4       2017-11-07            8.0             Bad Beat         1356"
      ]
     },
     "execution_count": 243,
     "metadata": {},
     "output_type": "execute_result"
    }
   ],
   "source": [
    "# store episode name, date, total votes and rating in a pandas dataframe (imdb_b99)\n",
    "column_names = ['episode_air_date','episode_rating','episode_name','total_votes']\n",
    "imdb_b99 = pd.DataFrame(columns=column_names)\n",
    "for episode in episodes:\n",
    "    imdb_b99 = imdb_b99.append({'episode_air_date': episode.findAll(\"div\",{\"class\":\"airdate\"})[0].text, 'episode_rating': episode.findAll(\"span\",{\"class\":\"ipl-rating-star__rating\"})[0].text, 'episode_name':episode.a['title'],'total_votes':episode.findAll(\"span\",{\"class\":\"ipl-rating-star__total-votes\"})[0].text}, ignore_index=True)\n",
    "imdb_b99['episode_air_date'] = pd.to_datetime(imdb_b99['episode_air_date'].replace('\\n', '').str.strip())\n",
    "imdb_b99['total_votes'] = pd.to_numeric(imdb_b99['total_votes'].str[1:6].str.replace(',',''))\n",
    "imdb_b99.head()"
   ]
  },
  {
   "cell_type": "markdown",
   "metadata": {},
   "source": [
    "### Combining Ratings from The A.V. Club and IMDB"
   ]
  },
  {
   "cell_type": "code",
   "execution_count": 244,
   "metadata": {},
   "outputs": [
    {
     "data": {
      "text/html": [
       "<div>\n",
       "<style scoped>\n",
       "    .dataframe tbody tr th:only-of-type {\n",
       "        vertical-align: middle;\n",
       "    }\n",
       "\n",
       "    .dataframe tbody tr th {\n",
       "        vertical-align: top;\n",
       "    }\n",
       "\n",
       "    .dataframe thead th {\n",
       "        text-align: right;\n",
       "    }\n",
       "</style>\n",
       "<table border=\"1\" class=\"dataframe\">\n",
       "  <thead>\n",
       "    <tr style=\"text-align: right;\">\n",
       "      <th></th>\n",
       "      <th>episode_air_date</th>\n",
       "      <th>episode_rating_x</th>\n",
       "      <th>episode_rating_y</th>\n",
       "      <th>episode_name</th>\n",
       "      <th>total_votes</th>\n",
       "    </tr>\n",
       "  </thead>\n",
       "  <tbody>\n",
       "    <tr>\n",
       "      <td>0</td>\n",
       "      <td>2017-11-07</td>\n",
       "      <td>B+</td>\n",
       "      <td>8.0</td>\n",
       "      <td>Bad Beat</td>\n",
       "      <td>1356</td>\n",
       "    </tr>\n",
       "    <tr>\n",
       "      <td>1</td>\n",
       "      <td>2017-10-17</td>\n",
       "      <td>A</td>\n",
       "      <td>9.5</td>\n",
       "      <td>HalloVeen</td>\n",
       "      <td>3028</td>\n",
       "    </tr>\n",
       "    <tr>\n",
       "      <td>2</td>\n",
       "      <td>2017-10-10</td>\n",
       "      <td>B+</td>\n",
       "      <td>8.0</td>\n",
       "      <td>Kicks</td>\n",
       "      <td>1383</td>\n",
       "    </tr>\n",
       "    <tr>\n",
       "      <td>3</td>\n",
       "      <td>2017-10-03</td>\n",
       "      <td>C+</td>\n",
       "      <td>8.4</td>\n",
       "      <td>The Big House Pt. 2</td>\n",
       "      <td>1507</td>\n",
       "    </tr>\n",
       "    <tr>\n",
       "      <td>4</td>\n",
       "      <td>2017-09-26</td>\n",
       "      <td>B</td>\n",
       "      <td>8.5</td>\n",
       "      <td>The Big House Pt. 1</td>\n",
       "      <td>1664</td>\n",
       "    </tr>\n",
       "  </tbody>\n",
       "</table>\n",
       "</div>"
      ],
      "text/plain": [
       "  episode_air_date episode_rating_x episode_rating_y         episode_name  \\\n",
       "0       2017-11-07               B+              8.0             Bad Beat   \n",
       "1       2017-10-17                A              9.5            HalloVeen   \n",
       "2       2017-10-10               B+              8.0                Kicks   \n",
       "3       2017-10-03               C+              8.4  The Big House Pt. 2   \n",
       "4       2017-09-26                B              8.5  The Big House Pt. 1   \n",
       "\n",
       "   total_votes  \n",
       "0         1356  \n",
       "1         3028  \n",
       "2         1383  \n",
       "3         1507  \n",
       "4         1664  "
      ]
     },
     "execution_count": 244,
     "metadata": {},
     "output_type": "execute_result"
    }
   ],
   "source": [
    "av_club_imdb_b99 = pd.merge(av_club_b99, imdb_b99, on='episode_air_date')\n",
    "av_club_imdb_b99.head()"
   ]
  },
  {
   "cell_type": "code",
   "execution_count": 245,
   "metadata": {},
   "outputs": [
    {
     "data": {
      "text/html": [
       "<div>\n",
       "<style scoped>\n",
       "    .dataframe tbody tr th:only-of-type {\n",
       "        vertical-align: middle;\n",
       "    }\n",
       "\n",
       "    .dataframe tbody tr th {\n",
       "        vertical-align: top;\n",
       "    }\n",
       "\n",
       "    .dataframe thead th {\n",
       "        text-align: right;\n",
       "    }\n",
       "</style>\n",
       "<table border=\"1\" class=\"dataframe\">\n",
       "  <thead>\n",
       "    <tr style=\"text-align: right;\">\n",
       "      <th></th>\n",
       "      <th>rating_letter</th>\n",
       "      <th>rating_num</th>\n",
       "    </tr>\n",
       "  </thead>\n",
       "  <tbody>\n",
       "    <tr>\n",
       "      <td>0</td>\n",
       "      <td>A</td>\n",
       "      <td>10</td>\n",
       "    </tr>\n",
       "    <tr>\n",
       "      <td>1</td>\n",
       "      <td>A-</td>\n",
       "      <td>9</td>\n",
       "    </tr>\n",
       "    <tr>\n",
       "      <td>2</td>\n",
       "      <td>B+</td>\n",
       "      <td>8</td>\n",
       "    </tr>\n",
       "    <tr>\n",
       "      <td>3</td>\n",
       "      <td>B</td>\n",
       "      <td>7</td>\n",
       "    </tr>\n",
       "    <tr>\n",
       "      <td>4</td>\n",
       "      <td>B-</td>\n",
       "      <td>6</td>\n",
       "    </tr>\n",
       "  </tbody>\n",
       "</table>\n",
       "</div>"
      ],
      "text/plain": [
       "  rating_letter  rating_num\n",
       "0             A          10\n",
       "1            A-           9\n",
       "2            B+           8\n",
       "3             B           7\n",
       "4            B-           6"
      ]
     },
     "execution_count": 245,
     "metadata": {},
     "output_type": "execute_result"
    }
   ],
   "source": [
    "column_names = ['rating_letter','rating_num']\n",
    "data = [['A',10], ['A-',9], ['B+',8], ['B',7], ['B-',6], ['C+',5], ['C',4], ['C-',3], ['D+',2], ['D',1]]\n",
    "av_club_rating = pd.DataFrame(data,columns = column_names)\n",
    "av_club_rating.head()"
   ]
  },
  {
   "cell_type": "code",
   "execution_count": 246,
   "metadata": {},
   "outputs": [
    {
     "data": {
      "text/html": [
       "<div>\n",
       "<style scoped>\n",
       "    .dataframe tbody tr th:only-of-type {\n",
       "        vertical-align: middle;\n",
       "    }\n",
       "\n",
       "    .dataframe tbody tr th {\n",
       "        vertical-align: top;\n",
       "    }\n",
       "\n",
       "    .dataframe thead th {\n",
       "        text-align: right;\n",
       "    }\n",
       "</style>\n",
       "<table border=\"1\" class=\"dataframe\">\n",
       "  <thead>\n",
       "    <tr style=\"text-align: right;\">\n",
       "      <th></th>\n",
       "      <th>episode_air_date</th>\n",
       "      <th>episode_rating_x</th>\n",
       "      <th>episode_rating_y</th>\n",
       "      <th>episode_name</th>\n",
       "      <th>total_votes</th>\n",
       "      <th>rating_letter</th>\n",
       "      <th>rating_num</th>\n",
       "    </tr>\n",
       "  </thead>\n",
       "  <tbody>\n",
       "    <tr>\n",
       "      <td>0</td>\n",
       "      <td>2017-11-07</td>\n",
       "      <td>B+</td>\n",
       "      <td>8.0</td>\n",
       "      <td>Bad Beat</td>\n",
       "      <td>1356</td>\n",
       "      <td>B+</td>\n",
       "      <td>8</td>\n",
       "    </tr>\n",
       "    <tr>\n",
       "      <td>1</td>\n",
       "      <td>2017-10-10</td>\n",
       "      <td>B+</td>\n",
       "      <td>8.0</td>\n",
       "      <td>Kicks</td>\n",
       "      <td>1383</td>\n",
       "      <td>B+</td>\n",
       "      <td>8</td>\n",
       "    </tr>\n",
       "    <tr>\n",
       "      <td>2</td>\n",
       "      <td>2017-10-17</td>\n",
       "      <td>A</td>\n",
       "      <td>9.5</td>\n",
       "      <td>HalloVeen</td>\n",
       "      <td>3028</td>\n",
       "      <td>A</td>\n",
       "      <td>10</td>\n",
       "    </tr>\n",
       "    <tr>\n",
       "      <td>3</td>\n",
       "      <td>2017-10-03</td>\n",
       "      <td>C+</td>\n",
       "      <td>8.4</td>\n",
       "      <td>The Big House Pt. 2</td>\n",
       "      <td>1507</td>\n",
       "      <td>C+</td>\n",
       "      <td>5</td>\n",
       "    </tr>\n",
       "    <tr>\n",
       "      <td>4</td>\n",
       "      <td>2017-09-26</td>\n",
       "      <td>B</td>\n",
       "      <td>8.5</td>\n",
       "      <td>The Big House Pt. 1</td>\n",
       "      <td>1664</td>\n",
       "      <td>B</td>\n",
       "      <td>7</td>\n",
       "    </tr>\n",
       "  </tbody>\n",
       "</table>\n",
       "</div>"
      ],
      "text/plain": [
       "  episode_air_date episode_rating_x episode_rating_y         episode_name  \\\n",
       "0       2017-11-07               B+              8.0             Bad Beat   \n",
       "1       2017-10-10               B+              8.0                Kicks   \n",
       "2       2017-10-17                A              9.5            HalloVeen   \n",
       "3       2017-10-03               C+              8.4  The Big House Pt. 2   \n",
       "4       2017-09-26                B              8.5  The Big House Pt. 1   \n",
       "\n",
       "   total_votes rating_letter  rating_num  \n",
       "0         1356            B+           8  \n",
       "1         1383            B+           8  \n",
       "2         3028             A          10  \n",
       "3         1507            C+           5  \n",
       "4         1664             B           7  "
      ]
     },
     "execution_count": 246,
     "metadata": {},
     "output_type": "execute_result"
    }
   ],
   "source": [
    "av_club_imdb_b99 = pd.merge(av_club_imdb_b99, av_club_rating, left_on='episode_rating_x',right_on='rating_letter')\n",
    "av_club_imdb_b99.head()"
   ]
  },
  {
   "cell_type": "code",
   "execution_count": 247,
   "metadata": {},
   "outputs": [
    {
     "data": {
      "text/html": [
       "<div>\n",
       "<style scoped>\n",
       "    .dataframe tbody tr th:only-of-type {\n",
       "        vertical-align: middle;\n",
       "    }\n",
       "\n",
       "    .dataframe tbody tr th {\n",
       "        vertical-align: top;\n",
       "    }\n",
       "\n",
       "    .dataframe thead th {\n",
       "        text-align: right;\n",
       "    }\n",
       "</style>\n",
       "<table border=\"1\" class=\"dataframe\">\n",
       "  <thead>\n",
       "    <tr style=\"text-align: right;\">\n",
       "      <th></th>\n",
       "      <th>episode_name</th>\n",
       "      <th>episode_air_date</th>\n",
       "      <th>episode_rating_imdb</th>\n",
       "      <th>total_votes_imdb</th>\n",
       "      <th>episode_rating_av_club</th>\n",
       "    </tr>\n",
       "  </thead>\n",
       "  <tbody>\n",
       "    <tr>\n",
       "      <td>0</td>\n",
       "      <td>Bad Beat</td>\n",
       "      <td>2017-11-07</td>\n",
       "      <td>8.0</td>\n",
       "      <td>1356</td>\n",
       "      <td>8</td>\n",
       "    </tr>\n",
       "    <tr>\n",
       "      <td>1</td>\n",
       "      <td>Kicks</td>\n",
       "      <td>2017-10-10</td>\n",
       "      <td>8.0</td>\n",
       "      <td>1383</td>\n",
       "      <td>8</td>\n",
       "    </tr>\n",
       "    <tr>\n",
       "      <td>2</td>\n",
       "      <td>HalloVeen</td>\n",
       "      <td>2017-10-17</td>\n",
       "      <td>9.5</td>\n",
       "      <td>3028</td>\n",
       "      <td>10</td>\n",
       "    </tr>\n",
       "    <tr>\n",
       "      <td>3</td>\n",
       "      <td>The Big House Pt. 2</td>\n",
       "      <td>2017-10-03</td>\n",
       "      <td>8.4</td>\n",
       "      <td>1507</td>\n",
       "      <td>5</td>\n",
       "    </tr>\n",
       "    <tr>\n",
       "      <td>4</td>\n",
       "      <td>The Big House Pt. 1</td>\n",
       "      <td>2017-09-26</td>\n",
       "      <td>8.5</td>\n",
       "      <td>1664</td>\n",
       "      <td>7</td>\n",
       "    </tr>\n",
       "  </tbody>\n",
       "</table>\n",
       "</div>"
      ],
      "text/plain": [
       "          episode_name episode_air_date episode_rating_imdb  total_votes_imdb  \\\n",
       "0             Bad Beat       2017-11-07                 8.0              1356   \n",
       "1                Kicks       2017-10-10                 8.0              1383   \n",
       "2            HalloVeen       2017-10-17                 9.5              3028   \n",
       "3  The Big House Pt. 2       2017-10-03                 8.4              1507   \n",
       "4  The Big House Pt. 1       2017-09-26                 8.5              1664   \n",
       "\n",
       "   episode_rating_av_club  \n",
       "0                       8  \n",
       "1                       8  \n",
       "2                      10  \n",
       "3                       5  \n",
       "4                       7  "
      ]
     },
     "execution_count": 247,
     "metadata": {},
     "output_type": "execute_result"
    }
   ],
   "source": [
    "av_club_imdb_b99 = av_club_imdb_b99.rename(columns={'rating_num':'episode_rating_av_club','episode_rating_y':'episode_rating_imdb','total_votes':'total_votes_imdb'})\n",
    "av_club_imdb_b99 = av_club_imdb_b99[['episode_name','episode_air_date','episode_rating_imdb','total_votes_imdb','episode_rating_av_club']]\n",
    "av_club_imdb_b99"
   ]
  },
  {
   "cell_type": "markdown",
   "metadata": {},
   "source": [
    "### Exploratory Data Analysis"
   ]
  },
  {
   "cell_type": "markdown",
   "metadata": {},
   "source": [
    "#### IMDB Votes vs IMDB Ratings"
   ]
  },
  {
   "cell_type": "code",
   "execution_count": 248,
   "metadata": {},
   "outputs": [
    {
     "data": {
      "text/plain": [
       "<matplotlib.collections.PathCollection at 0x18583224828>"
      ]
     },
     "execution_count": 248,
     "metadata": {},
     "output_type": "execute_result"
    },
    {
     "data": {
      "image/png": "[encoded data removed]",
      "text/plain": [
       "<Figure size 1080x360 with 1 Axes>"
      ]
     },
     "metadata": {
      "needs_background": "light"
     },
     "output_type": "display_data"
    }
   ],
   "source": [
    "fig, ax = plt.subplots(1,1,figsize=(15,5))\n",
    "\n",
    "ax.scatter('total_votes_imdb','episode_rating_imdb',data=av_club_imdb_b99)"
   ]
  },
  {
   "cell_type": "markdown",
   "metadata": {},
   "source": [
    "#### Episode Ratings: IMDB vs The A.V. Club"
   ]
  },
  {
   "cell_type": "code",
   "execution_count": 252,
   "metadata": {},
   "outputs": [
    {
     "data": {
      "text/plain": [
       "<matplotlib.legend.Legend at 0x18583eeb4e0>"
      ]
     },
     "execution_count": 252,
     "metadata": {},
     "output_type": "execute_result"
    },
    {
     "data": {
      "image/png": "[encoded data removed]",
      "text/plain": [
       "<Figure size 1080x360 with 1 Axes>"
      ]
     },
     "metadata": {
      "needs_background": "light"
     },
     "output_type": "display_data"
    }
   ],
   "source": [
    "fig, ax = plt.subplots(1,1,figsize=(15,5))\n",
    "\n",
    "plt.plot( 'episode_name', 'episode_rating_imdb', data=av_club_imdb_b99, marker='', color='olive', linewidth=2)\n",
    "plt.plot( 'episode_name', 'episode_rating_av_club', data=av_club_imdb_b99, marker='', color='blue', linewidth=2)\n",
    "plt.legend()"
   ]
  },
  {
   "cell_type": "code",
   "execution_count": null,
   "metadata": {},
   "outputs": [],
   "source": []
  },
  {
   "cell_type": "code",
   "execution_count": null,
   "metadata": {},
   "outputs": [],
   "source": []
  }
 ],
 "metadata": {
  "kernelspec": {
   "display_name": "Python 3",
   "language": "python",
   "name": "python3"
  },
  "language_info": {
   "codemirror_mode": {
    "name": "ipython",
    "version": 3
   },
   "file_extension": ".py",
   "mimetype": "text/x-python",
   "name": "python",
   "nbconvert_exporter": "python",
   "pygments_lexer": "ipython3",
   "version": "3.7.3"
  }
 },
 "nbformat": 4,
 "nbformat_minor": 2
}
